{
 "cells": [
  {
   "cell_type": "code",
   "execution_count": 1,
   "id": "ac25c2b5",
   "metadata": {},
   "outputs": [],
   "source": [
    "import numpy as np\n",
    "import pandas as pd"
   ]
  },
  {
   "cell_type": "code",
   "execution_count": 2,
   "id": "79deab15",
   "metadata": {},
   "outputs": [],
   "source": [
    "l=[1,2,3,4]"
   ]
  },
  {
   "cell_type": "code",
   "execution_count": 3,
   "id": "a5605394",
   "metadata": {},
   "outputs": [],
   "source": [
    "arr=np.array(l)   #list conver to array"
   ]
  },
  {
   "cell_type": "code",
   "execution_count": 4,
   "id": "a191d385",
   "metadata": {},
   "outputs": [
    {
     "data": {
      "text/plain": [
       "array([1, 2, 3, 4])"
      ]
     },
     "execution_count": 4,
     "metadata": {},
     "output_type": "execute_result"
    }
   ],
   "source": [
    "arr              #One Dimensional array"
   ]
  },
  {
   "cell_type": "code",
   "execution_count": 5,
   "id": "65781e41",
   "metadata": {},
   "outputs": [
    {
     "data": {
      "text/plain": [
       "numpy.ndarray"
      ]
     },
     "execution_count": 5,
     "metadata": {},
     "output_type": "execute_result"
    }
   ],
   "source": [
    "type(arr)"
   ]
  },
  {
   "cell_type": "code",
   "execution_count": 6,
   "id": "06e293a7",
   "metadata": {},
   "outputs": [
    {
     "data": {
      "text/plain": [
       "array([[1, 2],\n",
       "       [3, 4],\n",
       "       [5, 6]])"
      ]
     },
     "execution_count": 6,
     "metadata": {},
     "output_type": "execute_result"
    }
   ],
   "source": [
    "np.array([[1,2],[3,4],[5,6]])             #Two Dimensional array"
   ]
  },
  {
   "cell_type": "code",
   "execution_count": 7,
   "id": "dc440629",
   "metadata": {},
   "outputs": [
    {
     "data": {
      "text/plain": [
       "array([1, 2, 3, 4, 5])"
      ]
     },
     "execution_count": 7,
     "metadata": {},
     "output_type": "execute_result"
    }
   ],
   "source": [
    "np.asarray([1,2,3,4,5])"
   ]
  },
  {
   "cell_type": "code",
   "execution_count": 8,
   "id": "a70ee68a",
   "metadata": {},
   "outputs": [
    {
     "data": {
      "text/plain": [
       "array([1, 2, 3, 4, 2, 3])"
      ]
     },
     "execution_count": 8,
     "metadata": {},
     "output_type": "execute_result"
    }
   ],
   "source": [
    "np.asanyarray([1,2,3,4,2,3])"
   ]
  },
  {
   "cell_type": "code",
   "execution_count": 9,
   "id": "0f563797",
   "metadata": {},
   "outputs": [],
   "source": [
    "mtx=np.matrix([2,3,2,3,4])"
   ]
  },
  {
   "cell_type": "code",
   "execution_count": 10,
   "id": "7a2e0799",
   "metadata": {},
   "outputs": [
    {
     "data": {
      "text/plain": [
       "matrix([[2, 3, 2, 3, 4]])"
      ]
     },
     "execution_count": 10,
     "metadata": {},
     "output_type": "execute_result"
    }
   ],
   "source": [
    "np.asanyarray(mtx)    #Matrix is not convert to array because it is already in array"
   ]
  },
  {
   "cell_type": "markdown",
   "id": "d08d4119",
   "metadata": {},
   "source": [
    "### opration in array"
   ]
  },
  {
   "cell_type": "code",
   "execution_count": 11,
   "id": "3f1df88f",
   "metadata": {},
   "outputs": [],
   "source": [
    "a=np.array([1,2,3,4])"
   ]
  },
  {
   "cell_type": "code",
   "execution_count": 12,
   "id": "4bb8a4ad",
   "metadata": {},
   "outputs": [],
   "source": [
    "c=a"
   ]
  },
  {
   "cell_type": "code",
   "execution_count": 13,
   "id": "6c9735bc",
   "metadata": {},
   "outputs": [
    {
     "data": {
      "text/plain": [
       "array([1, 2, 3, 4])"
      ]
     },
     "execution_count": 13,
     "metadata": {},
     "output_type": "execute_result"
    }
   ],
   "source": [
    "c"
   ]
  },
  {
   "cell_type": "code",
   "execution_count": 14,
   "id": "7dfc3bcd",
   "metadata": {},
   "outputs": [
    {
     "data": {
      "text/plain": [
       "array([1, 2, 3, 4])"
      ]
     },
     "execution_count": 14,
     "metadata": {},
     "output_type": "execute_result"
    }
   ],
   "source": [
    "a"
   ]
  },
  {
   "cell_type": "code",
   "execution_count": 15,
   "id": "8d79d377",
   "metadata": {},
   "outputs": [],
   "source": [
    "c[0]=100"
   ]
  },
  {
   "cell_type": "code",
   "execution_count": 16,
   "id": "cc09c062",
   "metadata": {},
   "outputs": [
    {
     "data": {
      "text/plain": [
       "array([100,   2,   3,   4])"
      ]
     },
     "execution_count": 16,
     "metadata": {},
     "output_type": "execute_result"
    }
   ],
   "source": [
    "c"
   ]
  },
  {
   "cell_type": "code",
   "execution_count": 17,
   "id": "e2da7bdb",
   "metadata": {},
   "outputs": [
    {
     "data": {
      "text/plain": [
       "array([100,   2,   3,   4])"
      ]
     },
     "execution_count": 17,
     "metadata": {},
     "output_type": "execute_result"
    }
   ],
   "source": [
    "a"
   ]
  },
  {
   "cell_type": "code",
   "execution_count": 18,
   "id": "7c75d470",
   "metadata": {},
   "outputs": [],
   "source": [
    "d=np.copy(a)         #Make Anothere array with Address"
   ]
  },
  {
   "cell_type": "code",
   "execution_count": 19,
   "id": "ec5b1288",
   "metadata": {},
   "outputs": [
    {
     "data": {
      "text/plain": [
       "array([100,   2,   3,   4])"
      ]
     },
     "execution_count": 19,
     "metadata": {},
     "output_type": "execute_result"
    }
   ],
   "source": [
    "d"
   ]
  },
  {
   "cell_type": "code",
   "execution_count": 20,
   "id": "3c8ddf9c",
   "metadata": {},
   "outputs": [],
   "source": [
    "a[0]=400"
   ]
  },
  {
   "cell_type": "code",
   "execution_count": 21,
   "id": "b1210d6d",
   "metadata": {},
   "outputs": [
    {
     "data": {
      "text/plain": [
       "array([400,   2,   3,   4])"
      ]
     },
     "execution_count": 21,
     "metadata": {},
     "output_type": "execute_result"
    }
   ],
   "source": [
    "a"
   ]
  },
  {
   "cell_type": "code",
   "execution_count": 22,
   "id": "07b6fdfa",
   "metadata": {},
   "outputs": [
    {
     "data": {
      "text/plain": [
       "array([400,   2,   3,   4])"
      ]
     },
     "execution_count": 22,
     "metadata": {},
     "output_type": "execute_result"
    }
   ],
   "source": [
    "c"
   ]
  },
  {
   "cell_type": "code",
   "execution_count": 23,
   "id": "2c91912c",
   "metadata": {},
   "outputs": [
    {
     "data": {
      "text/plain": [
       "array([100,   2,   3,   4])"
      ]
     },
     "execution_count": 23,
     "metadata": {},
     "output_type": "execute_result"
    }
   ],
   "source": [
    "d"
   ]
  },
  {
   "cell_type": "markdown",
   "id": "8fe882ff",
   "metadata": {},
   "source": [
    "## Some Function in array"
   ]
  },
  {
   "cell_type": "code",
   "execution_count": 24,
   "id": "06acdedd",
   "metadata": {},
   "outputs": [
    {
     "data": {
      "text/plain": [
       "array([[ True, False, False],\n",
       "       [False,  True, False],\n",
       "       [False, False,  True]])"
      ]
     },
     "execution_count": 24,
     "metadata": {},
     "output_type": "execute_result"
    }
   ],
   "source": [
    "np.fromfunction(lambda i,j:i==j,(3,3))  ##--             --\n",
    "                                        # | 11    12   13  |\n",
    "                                        # | 21    22   23  |\n",
    "                                        # | 31    32   33  |\n",
    "                                        # --             --"
   ]
  },
  {
   "cell_type": "code",
   "execution_count": 25,
   "id": "21c60902",
   "metadata": {},
   "outputs": [
    {
     "data": {
      "text/plain": [
       "array([[0., 0., 0.],\n",
       "       [0., 1., 2.],\n",
       "       [0., 2., 4.]])"
      ]
     },
     "execution_count": 25,
     "metadata": {},
     "output_type": "execute_result"
    }
   ],
   "source": [
    "np.fromfunction(lambda i,j:i*j,(3,3))    # -- 0     1    2--\n",
    "                                        # 0| 0     0    0  |\n",
    "                                        # 1| 0     1    2  |\n",
    "                                        # 2| 0     2    4  |\n",
    "                                        #  --             --"
   ]
  },
  {
   "cell_type": "code",
   "execution_count": 26,
   "id": "819d1140",
   "metadata": {},
   "outputs": [
    {
     "data": {
      "text/plain": [
       "<generator object <genexpr> at 0x0000026B4EDE76D0>"
      ]
     },
     "execution_count": 26,
     "metadata": {},
     "output_type": "execute_result"
    }
   ],
   "source": [
    "iterable=(i*i for i in range(5))\n",
    "iterable"
   ]
  },
  {
   "cell_type": "code",
   "execution_count": 27,
   "id": "ef7e59e4",
   "metadata": {},
   "outputs": [
    {
     "data": {
      "text/plain": [
       "array([ 0.,  1.,  4.,  9., 16.])"
      ]
     },
     "execution_count": 27,
     "metadata": {},
     "output_type": "execute_result"
    }
   ],
   "source": [
    "np.fromiter(iterable,float)"
   ]
  },
  {
   "cell_type": "code",
   "execution_count": 28,
   "id": "bca2cf26",
   "metadata": {},
   "outputs": [
    {
     "data": {
      "text/plain": [
       "array([1., 3., 4., 5., 5., 5., 5.])"
      ]
     },
     "execution_count": 28,
     "metadata": {},
     "output_type": "execute_result"
    }
   ],
   "source": [
    "np.fromstring('1 3 4 5 5 5 5',sep=' ')"
   ]
  },
  {
   "cell_type": "markdown",
   "id": "856a0abf",
   "metadata": {},
   "source": [
    "### Numpy data types "
   ]
  },
  {
   "cell_type": "code",
   "execution_count": 29,
   "id": "022929f0",
   "metadata": {},
   "outputs": [],
   "source": [
    "l=[1,2,3,1,4,2,5,3]"
   ]
  },
  {
   "cell_type": "code",
   "execution_count": 30,
   "id": "d8c46ff5",
   "metadata": {},
   "outputs": [
    {
     "data": {
      "text/plain": [
       "array([1, 2, 3, 1, 4, 2, 5, 3])"
      ]
     },
     "execution_count": 30,
     "metadata": {},
     "output_type": "execute_result"
    }
   ],
   "source": [
    "ar=np.array(l)\n",
    "ar"
   ]
  },
  {
   "cell_type": "code",
   "execution_count": 31,
   "id": "c5acc8d1",
   "metadata": {},
   "outputs": [
    {
     "data": {
      "text/plain": [
       "1"
      ]
     },
     "execution_count": 31,
     "metadata": {},
     "output_type": "execute_result"
    }
   ],
   "source": [
    "np.ndim(ar)      #to find the dimension of array"
   ]
  },
  {
   "cell_type": "code",
   "execution_count": 32,
   "id": "4c9142b0",
   "metadata": {},
   "outputs": [
    {
     "data": {
      "text/plain": [
       "8"
      ]
     },
     "execution_count": 32,
     "metadata": {},
     "output_type": "execute_result"
    }
   ],
   "source": [
    "ar.size"
   ]
  },
  {
   "cell_type": "code",
   "execution_count": 33,
   "id": "727a7d5c",
   "metadata": {},
   "outputs": [
    {
     "data": {
      "text/plain": [
       "(8,)"
      ]
     },
     "execution_count": 33,
     "metadata": {},
     "output_type": "execute_result"
    }
   ],
   "source": [
    "ar.shape"
   ]
  },
  {
   "cell_type": "code",
   "execution_count": 34,
   "id": "84da9099",
   "metadata": {},
   "outputs": [
    {
     "data": {
      "text/plain": [
       "dtype('int32')"
      ]
     },
     "execution_count": 34,
     "metadata": {},
     "output_type": "execute_result"
    }
   ],
   "source": [
    "ar.dtype"
   ]
  },
  {
   "cell_type": "code",
   "execution_count": 35,
   "id": "30bd82db",
   "metadata": {},
   "outputs": [
    {
     "data": {
      "text/plain": [
       "array([[1., 2., 3., 4., 5.],\n",
       "       [6., 7., 8., 9., 0.]])"
      ]
     },
     "execution_count": 35,
     "metadata": {},
     "output_type": "execute_result"
    }
   ],
   "source": [
    "ar2=np.array([[1.0,2,3,4,5],[6,7,8,9,0]])\n",
    "ar2"
   ]
  },
  {
   "cell_type": "code",
   "execution_count": 36,
   "id": "c6a3be50",
   "metadata": {},
   "outputs": [
    {
     "data": {
      "text/plain": [
       "dtype('float64')"
      ]
     },
     "execution_count": 36,
     "metadata": {},
     "output_type": "execute_result"
    }
   ],
   "source": [
    "ar2.dtype"
   ]
  },
  {
   "cell_type": "code",
   "execution_count": 37,
   "id": "b69d7366",
   "metadata": {},
   "outputs": [
    {
     "data": {
      "text/plain": [
       "array([2.3, 3.3, 4.3, 5.3])"
      ]
     },
     "execution_count": 37,
     "metadata": {},
     "output_type": "execute_result"
    }
   ],
   "source": [
    "ar3=np.arange(2.3,5.6)\n",
    "ar3"
   ]
  },
  {
   "cell_type": "code",
   "execution_count": 38,
   "id": "1e48cf15",
   "metadata": {},
   "outputs": [
    {
     "data": {
      "text/plain": [
       "array([1.        , 1.44444444, 1.88888889, 2.33333333, 2.77777778,\n",
       "       3.22222222, 3.66666667, 4.11111111, 4.55555556, 5.        ])"
      ]
     },
     "execution_count": 38,
     "metadata": {},
     "output_type": "execute_result"
    }
   ],
   "source": [
    "np.linspace(1,5,10)"
   ]
  },
  {
   "cell_type": "code",
   "execution_count": 39,
   "id": "da35ea31",
   "metadata": {},
   "outputs": [
    {
     "data": {
      "text/plain": [
       "array([[0., 0., 0.],\n",
       "       [0., 0., 0.]])"
      ]
     },
     "execution_count": 39,
     "metadata": {},
     "output_type": "execute_result"
    }
   ],
   "source": [
    "ar4=np.zeros((2,3))           #2-D Array\n",
    "ar4"
   ]
  },
  {
   "cell_type": "code",
   "execution_count": 40,
   "id": "4c643a55",
   "metadata": {},
   "outputs": [
    {
     "data": {
      "text/plain": [
       "array([[[0., 0.],\n",
       "        [0., 0.],\n",
       "        [0., 0.],\n",
       "        [0., 0.]],\n",
       "\n",
       "       [[0., 0.],\n",
       "        [0., 0.],\n",
       "        [0., 0.],\n",
       "        [0., 0.]],\n",
       "\n",
       "       [[0., 0.],\n",
       "        [0., 0.],\n",
       "        [0., 0.],\n",
       "        [0., 0.]]])"
      ]
     },
     "execution_count": 40,
     "metadata": {},
     "output_type": "execute_result"
    }
   ],
   "source": [
    "ar5=np.zeros((3,4,2))       #3-D Array\n",
    "ar5"
   ]
  },
  {
   "cell_type": "code",
   "execution_count": 41,
   "id": "de7d4515",
   "metadata": {},
   "outputs": [
    {
     "data": {
      "text/plain": [
       "array([[[[0., 0., 0.],\n",
       "         [0., 0., 0.]],\n",
       "\n",
       "        [[0., 0., 0.],\n",
       "         [0., 0., 0.]],\n",
       "\n",
       "        [[0., 0., 0.],\n",
       "         [0., 0., 0.]],\n",
       "\n",
       "        [[0., 0., 0.],\n",
       "         [0., 0., 0.]]],\n",
       "\n",
       "\n",
       "       [[[0., 0., 0.],\n",
       "         [0., 0., 0.]],\n",
       "\n",
       "        [[0., 0., 0.],\n",
       "         [0., 0., 0.]],\n",
       "\n",
       "        [[0., 0., 0.],\n",
       "         [0., 0., 0.]],\n",
       "\n",
       "        [[0., 0., 0.],\n",
       "         [0., 0., 0.]]],\n",
       "\n",
       "\n",
       "       [[[0., 0., 0.],\n",
       "         [0., 0., 0.]],\n",
       "\n",
       "        [[0., 0., 0.],\n",
       "         [0., 0., 0.]],\n",
       "\n",
       "        [[0., 0., 0.],\n",
       "         [0., 0., 0.]],\n",
       "\n",
       "        [[0., 0., 0.],\n",
       "         [0., 0., 0.]]]])"
      ]
     },
     "execution_count": 41,
     "metadata": {},
     "output_type": "execute_result"
    }
   ],
   "source": [
    "ar6=np.zeros((3,4,2,3))\n",
    "ar6"
   ]
  },
  {
   "cell_type": "code",
   "execution_count": 42,
   "id": "895ba341",
   "metadata": {},
   "outputs": [
    {
     "name": "stdout",
     "output_type": "stream",
     "text": [
      "1 dimension\n",
      "2 dimension\n",
      "3 dimension\n",
      "4 dimension\n"
     ]
    }
   ],
   "source": [
    "print(ar3.ndim,\"dimension\")\n",
    "print(ar4.ndim,\"dimension\")\n",
    "print(ar5.ndim,\"dimension\")\n",
    "print(ar6.ndim,\"dimension\")"
   ]
  },
  {
   "cell_type": "code",
   "execution_count": 43,
   "id": "9498bb35",
   "metadata": {},
   "outputs": [
    {
     "data": {
      "text/plain": [
       "array([1., 1., 1., 1.])"
      ]
     },
     "execution_count": 43,
     "metadata": {},
     "output_type": "execute_result"
    }
   ],
   "source": [
    "np.ones(4)"
   ]
  },
  {
   "cell_type": "code",
   "execution_count": 44,
   "id": "c3adc0fa",
   "metadata": {},
   "outputs": [],
   "source": [
    "ar7=np.ones((2,3))"
   ]
  },
  {
   "cell_type": "code",
   "execution_count": 45,
   "id": "8f0c3ae4",
   "metadata": {},
   "outputs": [
    {
     "data": {
      "text/plain": [
       "array([[4., 4., 4.],\n",
       "       [4., 4., 4.]])"
      ]
     },
     "execution_count": 45,
     "metadata": {},
     "output_type": "execute_result"
    }
   ],
   "source": [
    "ar7*4"
   ]
  },
  {
   "cell_type": "code",
   "execution_count": 46,
   "id": "f9ee6a94",
   "metadata": {},
   "outputs": [
    {
     "data": {
      "text/plain": [
       "array([[0., 0., 0., 0., 0.],\n",
       "       [0., 0., 0., 0., 0.],\n",
       "       [0., 0., 0., 0., 0.]])"
      ]
     },
     "execution_count": 46,
     "metadata": {},
     "output_type": "execute_result"
    }
   ],
   "source": [
    "np.empty((3,5))       #For empty array "
   ]
  },
  {
   "cell_type": "code",
   "execution_count": 47,
   "id": "f7abc260",
   "metadata": {},
   "outputs": [
    {
     "data": {
      "text/plain": [
       "array([[1., 0., 0., 0.],\n",
       "       [0., 1., 0., 0.],\n",
       "       [0., 0., 1., 0.],\n",
       "       [0., 0., 0., 1.]])"
      ]
     },
     "execution_count": 47,
     "metadata": {},
     "output_type": "execute_result"
    }
   ],
   "source": [
    "np.eye(4)              #Identity matrix in array"
   ]
  },
  {
   "cell_type": "code",
   "execution_count": 48,
   "id": "42a58f73",
   "metadata": {},
   "outputs": [
    {
     "data": {
      "text/plain": [
       "array([ 4.        ,  5.0396842 ,  6.34960421,  8.        , 10.0793684 ,\n",
       "       12.69920842, 16.        , 20.1587368 , 25.39841683, 32.        ])"
      ]
     },
     "execution_count": 48,
     "metadata": {},
     "output_type": "execute_result"
    }
   ],
   "source": [
    "np.logspace(2,5,10,base=2)      #To find logarithm value"
   ]
  },
  {
   "cell_type": "code",
   "execution_count": 49,
   "id": "45bdb28d",
   "metadata": {},
   "outputs": [],
   "source": [
    "arr=np.random.rand(3,5)       #for Randam Array "
   ]
  },
  {
   "cell_type": "code",
   "execution_count": 50,
   "id": "23839f08",
   "metadata": {},
   "outputs": [
    {
     "data": {
      "text/html": [
       "<div>\n",
       "<style scoped>\n",
       "    .dataframe tbody tr th:only-of-type {\n",
       "        vertical-align: middle;\n",
       "    }\n",
       "\n",
       "    .dataframe tbody tr th {\n",
       "        vertical-align: top;\n",
       "    }\n",
       "\n",
       "    .dataframe thead th {\n",
       "        text-align: right;\n",
       "    }\n",
       "</style>\n",
       "<table border=\"1\" class=\"dataframe\">\n",
       "  <thead>\n",
       "    <tr style=\"text-align: right;\">\n",
       "      <th></th>\n",
       "      <th>0</th>\n",
       "      <th>1</th>\n",
       "      <th>2</th>\n",
       "      <th>3</th>\n",
       "      <th>4</th>\n",
       "    </tr>\n",
       "  </thead>\n",
       "  <tbody>\n",
       "    <tr>\n",
       "      <th>0</th>\n",
       "      <td>0.700472</td>\n",
       "      <td>0.112639</td>\n",
       "      <td>0.075398</td>\n",
       "      <td>0.143631</td>\n",
       "      <td>0.388449</td>\n",
       "    </tr>\n",
       "    <tr>\n",
       "      <th>1</th>\n",
       "      <td>0.198711</td>\n",
       "      <td>0.074882</td>\n",
       "      <td>0.664915</td>\n",
       "      <td>0.593822</td>\n",
       "      <td>0.774279</td>\n",
       "    </tr>\n",
       "    <tr>\n",
       "      <th>2</th>\n",
       "      <td>0.044390</td>\n",
       "      <td>0.519104</td>\n",
       "      <td>0.118514</td>\n",
       "      <td>0.711418</td>\n",
       "      <td>0.099208</td>\n",
       "    </tr>\n",
       "  </tbody>\n",
       "</table>\n",
       "</div>"
      ],
      "text/plain": [
       "          0         1         2         3         4\n",
       "0  0.700472  0.112639  0.075398  0.143631  0.388449\n",
       "1  0.198711  0.074882  0.664915  0.593822  0.774279\n",
       "2  0.044390  0.519104  0.118514  0.711418  0.099208"
      ]
     },
     "execution_count": 50,
     "metadata": {},
     "output_type": "execute_result"
    }
   ],
   "source": [
    "pd.DataFrame(arr)"
   ]
  },
  {
   "cell_type": "code",
   "execution_count": 51,
   "id": "27642107",
   "metadata": {},
   "outputs": [
    {
     "data": {
      "text/plain": [
       "array([[ 0.02154947, -1.15484607, -0.80816449, -1.31260798,  0.92430162],\n",
       "       [-0.40547156,  0.60520269,  2.03456547, -0.86042028,  0.12487527],\n",
       "       [-0.95545046, -0.27667065, -0.39432368, -1.15501541,  0.01358754]])"
      ]
     },
     "execution_count": 51,
     "metadata": {},
     "output_type": "execute_result"
    }
   ],
   "source": [
    "np.random.randn(3,5)          #based on standard Normal distribution , Where the mean is 0 and the standard deviation is 1"
   ]
  },
  {
   "cell_type": "code",
   "execution_count": 52,
   "id": "7c8e662f",
   "metadata": {},
   "outputs": [
    {
     "data": {
      "text/html": [
       "<div>\n",
       "<style scoped>\n",
       "    .dataframe tbody tr th:only-of-type {\n",
       "        vertical-align: middle;\n",
       "    }\n",
       "\n",
       "    .dataframe tbody tr th {\n",
       "        vertical-align: top;\n",
       "    }\n",
       "\n",
       "    .dataframe thead th {\n",
       "        text-align: right;\n",
       "    }\n",
       "</style>\n",
       "<table border=\"1\" class=\"dataframe\">\n",
       "  <thead>\n",
       "    <tr style=\"text-align: right;\">\n",
       "      <th></th>\n",
       "      <th>0</th>\n",
       "      <th>1</th>\n",
       "      <th>2</th>\n",
       "      <th>3</th>\n",
       "      <th>4</th>\n",
       "      <th>5</th>\n",
       "      <th>6</th>\n",
       "      <th>7</th>\n",
       "      <th>8</th>\n",
       "      <th>9</th>\n",
       "      <th>...</th>\n",
       "      <th>390</th>\n",
       "      <th>391</th>\n",
       "      <th>392</th>\n",
       "      <th>393</th>\n",
       "      <th>394</th>\n",
       "      <th>395</th>\n",
       "      <th>396</th>\n",
       "      <th>397</th>\n",
       "      <th>398</th>\n",
       "      <th>399</th>\n",
       "    </tr>\n",
       "  </thead>\n",
       "  <tbody>\n",
       "    <tr>\n",
       "      <th>0</th>\n",
       "      <td>30</td>\n",
       "      <td>2</td>\n",
       "      <td>95</td>\n",
       "      <td>19</td>\n",
       "      <td>21</td>\n",
       "      <td>23</td>\n",
       "      <td>68</td>\n",
       "      <td>8</td>\n",
       "      <td>26</td>\n",
       "      <td>68</td>\n",
       "      <td>...</td>\n",
       "      <td>43</td>\n",
       "      <td>84</td>\n",
       "      <td>109</td>\n",
       "      <td>29</td>\n",
       "      <td>34</td>\n",
       "      <td>85</td>\n",
       "      <td>73</td>\n",
       "      <td>52</td>\n",
       "      <td>44</td>\n",
       "      <td>56</td>\n",
       "    </tr>\n",
       "    <tr>\n",
       "      <th>1</th>\n",
       "      <td>37</td>\n",
       "      <td>95</td>\n",
       "      <td>97</td>\n",
       "      <td>9</td>\n",
       "      <td>29</td>\n",
       "      <td>79</td>\n",
       "      <td>28</td>\n",
       "      <td>4</td>\n",
       "      <td>37</td>\n",
       "      <td>91</td>\n",
       "      <td>...</td>\n",
       "      <td>100</td>\n",
       "      <td>109</td>\n",
       "      <td>14</td>\n",
       "      <td>32</td>\n",
       "      <td>48</td>\n",
       "      <td>87</td>\n",
       "      <td>48</td>\n",
       "      <td>103</td>\n",
       "      <td>19</td>\n",
       "      <td>8</td>\n",
       "    </tr>\n",
       "    <tr>\n",
       "      <th>2</th>\n",
       "      <td>109</td>\n",
       "      <td>49</td>\n",
       "      <td>103</td>\n",
       "      <td>103</td>\n",
       "      <td>93</td>\n",
       "      <td>68</td>\n",
       "      <td>52</td>\n",
       "      <td>35</td>\n",
       "      <td>53</td>\n",
       "      <td>49</td>\n",
       "      <td>...</td>\n",
       "      <td>85</td>\n",
       "      <td>30</td>\n",
       "      <td>40</td>\n",
       "      <td>49</td>\n",
       "      <td>26</td>\n",
       "      <td>102</td>\n",
       "      <td>78</td>\n",
       "      <td>45</td>\n",
       "      <td>36</td>\n",
       "      <td>76</td>\n",
       "    </tr>\n",
       "    <tr>\n",
       "      <th>3</th>\n",
       "      <td>59</td>\n",
       "      <td>65</td>\n",
       "      <td>21</td>\n",
       "      <td>38</td>\n",
       "      <td>50</td>\n",
       "      <td>9</td>\n",
       "      <td>5</td>\n",
       "      <td>69</td>\n",
       "      <td>6</td>\n",
       "      <td>101</td>\n",
       "      <td>...</td>\n",
       "      <td>94</td>\n",
       "      <td>23</td>\n",
       "      <td>55</td>\n",
       "      <td>47</td>\n",
       "      <td>58</td>\n",
       "      <td>72</td>\n",
       "      <td>4</td>\n",
       "      <td>42</td>\n",
       "      <td>52</td>\n",
       "      <td>25</td>\n",
       "    </tr>\n",
       "    <tr>\n",
       "      <th>4</th>\n",
       "      <td>15</td>\n",
       "      <td>101</td>\n",
       "      <td>88</td>\n",
       "      <td>45</td>\n",
       "      <td>81</td>\n",
       "      <td>31</td>\n",
       "      <td>13</td>\n",
       "      <td>59</td>\n",
       "      <td>103</td>\n",
       "      <td>41</td>\n",
       "      <td>...</td>\n",
       "      <td>20</td>\n",
       "      <td>1</td>\n",
       "      <td>88</td>\n",
       "      <td>3</td>\n",
       "      <td>96</td>\n",
       "      <td>57</td>\n",
       "      <td>61</td>\n",
       "      <td>98</td>\n",
       "      <td>49</td>\n",
       "      <td>8</td>\n",
       "    </tr>\n",
       "    <tr>\n",
       "      <th>...</th>\n",
       "      <td>...</td>\n",
       "      <td>...</td>\n",
       "      <td>...</td>\n",
       "      <td>...</td>\n",
       "      <td>...</td>\n",
       "      <td>...</td>\n",
       "      <td>...</td>\n",
       "      <td>...</td>\n",
       "      <td>...</td>\n",
       "      <td>...</td>\n",
       "      <td>...</td>\n",
       "      <td>...</td>\n",
       "      <td>...</td>\n",
       "      <td>...</td>\n",
       "      <td>...</td>\n",
       "      <td>...</td>\n",
       "      <td>...</td>\n",
       "      <td>...</td>\n",
       "      <td>...</td>\n",
       "      <td>...</td>\n",
       "      <td>...</td>\n",
       "    </tr>\n",
       "    <tr>\n",
       "      <th>295</th>\n",
       "      <td>96</td>\n",
       "      <td>104</td>\n",
       "      <td>13</td>\n",
       "      <td>12</td>\n",
       "      <td>6</td>\n",
       "      <td>29</td>\n",
       "      <td>101</td>\n",
       "      <td>105</td>\n",
       "      <td>66</td>\n",
       "      <td>34</td>\n",
       "      <td>...</td>\n",
       "      <td>12</td>\n",
       "      <td>84</td>\n",
       "      <td>58</td>\n",
       "      <td>2</td>\n",
       "      <td>19</td>\n",
       "      <td>16</td>\n",
       "      <td>17</td>\n",
       "      <td>35</td>\n",
       "      <td>79</td>\n",
       "      <td>109</td>\n",
       "    </tr>\n",
       "    <tr>\n",
       "      <th>296</th>\n",
       "      <td>29</td>\n",
       "      <td>8</td>\n",
       "      <td>56</td>\n",
       "      <td>25</td>\n",
       "      <td>21</td>\n",
       "      <td>23</td>\n",
       "      <td>91</td>\n",
       "      <td>26</td>\n",
       "      <td>108</td>\n",
       "      <td>58</td>\n",
       "      <td>...</td>\n",
       "      <td>81</td>\n",
       "      <td>15</td>\n",
       "      <td>61</td>\n",
       "      <td>37</td>\n",
       "      <td>95</td>\n",
       "      <td>8</td>\n",
       "      <td>4</td>\n",
       "      <td>89</td>\n",
       "      <td>20</td>\n",
       "      <td>76</td>\n",
       "    </tr>\n",
       "    <tr>\n",
       "      <th>297</th>\n",
       "      <td>47</td>\n",
       "      <td>30</td>\n",
       "      <td>69</td>\n",
       "      <td>8</td>\n",
       "      <td>81</td>\n",
       "      <td>30</td>\n",
       "      <td>49</td>\n",
       "      <td>89</td>\n",
       "      <td>83</td>\n",
       "      <td>30</td>\n",
       "      <td>...</td>\n",
       "      <td>61</td>\n",
       "      <td>39</td>\n",
       "      <td>62</td>\n",
       "      <td>9</td>\n",
       "      <td>28</td>\n",
       "      <td>68</td>\n",
       "      <td>33</td>\n",
       "      <td>60</td>\n",
       "      <td>76</td>\n",
       "      <td>85</td>\n",
       "    </tr>\n",
       "    <tr>\n",
       "      <th>298</th>\n",
       "      <td>16</td>\n",
       "      <td>62</td>\n",
       "      <td>1</td>\n",
       "      <td>49</td>\n",
       "      <td>16</td>\n",
       "      <td>48</td>\n",
       "      <td>46</td>\n",
       "      <td>102</td>\n",
       "      <td>96</td>\n",
       "      <td>66</td>\n",
       "      <td>...</td>\n",
       "      <td>102</td>\n",
       "      <td>104</td>\n",
       "      <td>107</td>\n",
       "      <td>107</td>\n",
       "      <td>48</td>\n",
       "      <td>50</td>\n",
       "      <td>45</td>\n",
       "      <td>13</td>\n",
       "      <td>87</td>\n",
       "      <td>93</td>\n",
       "    </tr>\n",
       "    <tr>\n",
       "      <th>299</th>\n",
       "      <td>92</td>\n",
       "      <td>83</td>\n",
       "      <td>37</td>\n",
       "      <td>57</td>\n",
       "      <td>48</td>\n",
       "      <td>101</td>\n",
       "      <td>92</td>\n",
       "      <td>82</td>\n",
       "      <td>51</td>\n",
       "      <td>76</td>\n",
       "      <td>...</td>\n",
       "      <td>42</td>\n",
       "      <td>2</td>\n",
       "      <td>92</td>\n",
       "      <td>65</td>\n",
       "      <td>39</td>\n",
       "      <td>105</td>\n",
       "      <td>92</td>\n",
       "      <td>5</td>\n",
       "      <td>14</td>\n",
       "      <td>98</td>\n",
       "    </tr>\n",
       "  </tbody>\n",
       "</table>\n",
       "<p>300 rows × 400 columns</p>\n",
       "</div>"
      ],
      "text/plain": [
       "     0    1    2    3    4    5    6    7    8    9    ...  390  391  392  \\\n",
       "0     30    2   95   19   21   23   68    8   26   68  ...   43   84  109   \n",
       "1     37   95   97    9   29   79   28    4   37   91  ...  100  109   14   \n",
       "2    109   49  103  103   93   68   52   35   53   49  ...   85   30   40   \n",
       "3     59   65   21   38   50    9    5   69    6  101  ...   94   23   55   \n",
       "4     15  101   88   45   81   31   13   59  103   41  ...   20    1   88   \n",
       "..   ...  ...  ...  ...  ...  ...  ...  ...  ...  ...  ...  ...  ...  ...   \n",
       "295   96  104   13   12    6   29  101  105   66   34  ...   12   84   58   \n",
       "296   29    8   56   25   21   23   91   26  108   58  ...   81   15   61   \n",
       "297   47   30   69    8   81   30   49   89   83   30  ...   61   39   62   \n",
       "298   16   62    1   49   16   48   46  102   96   66  ...  102  104  107   \n",
       "299   92   83   37   57   48  101   92   82   51   76  ...   42    2   92   \n",
       "\n",
       "     393  394  395  396  397  398  399  \n",
       "0     29   34   85   73   52   44   56  \n",
       "1     32   48   87   48  103   19    8  \n",
       "2     49   26  102   78   45   36   76  \n",
       "3     47   58   72    4   42   52   25  \n",
       "4      3   96   57   61   98   49    8  \n",
       "..   ...  ...  ...  ...  ...  ...  ...  \n",
       "295    2   19   16   17   35   79  109  \n",
       "296   37   95    8    4   89   20   76  \n",
       "297    9   28   68   33   60   76   85  \n",
       "298  107   48   50   45   13   87   93  \n",
       "299   65   39  105   92    5   14   98  \n",
       "\n",
       "[300 rows x 400 columns]"
      ]
     },
     "execution_count": 52,
     "metadata": {},
     "output_type": "execute_result"
    }
   ],
   "source": [
    "pd.DataFrame(np.random.randint(1,110,(300,400)))    #to store:- to_csv('Test.csv')"
   ]
  },
  {
   "cell_type": "code",
   "execution_count": 53,
   "id": "d841880a",
   "metadata": {},
   "outputs": [],
   "source": [
    "ay=np.random.rand(3,4)   # Array have 12 element"
   ]
  },
  {
   "cell_type": "code",
   "execution_count": 54,
   "id": "b28296c9",
   "metadata": {},
   "outputs": [],
   "source": [
    "aee=ay.reshape(6,2)         #this reshape array also have 12 element"
   ]
  },
  {
   "cell_type": "code",
   "execution_count": 55,
   "id": "3a5aa419",
   "metadata": {},
   "outputs": [
    {
     "data": {
      "text/plain": [
       "array([[0.11672453, 0.94580614],\n",
       "       [0.05623624, 0.30037966],\n",
       "       [0.45322201, 0.23972897],\n",
       "       [0.38564644, 0.94386481],\n",
       "       [0.77512713, 0.80238901],\n",
       "       [0.91203595, 0.9865411 ]])"
      ]
     },
     "execution_count": 55,
     "metadata": {},
     "output_type": "execute_result"
    }
   ],
   "source": [
    "aee"
   ]
  },
  {
   "cell_type": "code",
   "execution_count": 56,
   "id": "b89c4a70",
   "metadata": {},
   "outputs": [
    {
     "data": {
      "text/plain": [
       "0.056236235297485226"
      ]
     },
     "execution_count": 56,
     "metadata": {},
     "output_type": "execute_result"
    }
   ],
   "source": [
    "aee[1][0]                #to get data from array"
   ]
  },
  {
   "cell_type": "code",
   "execution_count": 57,
   "id": "fbec71ae",
   "metadata": {},
   "outputs": [
    {
     "data": {
      "text/plain": [
       "array([0.45322201, 0.38564644, 0.77512713])"
      ]
     },
     "execution_count": 57,
     "metadata": {},
     "output_type": "execute_result"
    }
   ],
   "source": [
    "aee[2:5,0]              #toget data [row,Column]"
   ]
  },
  {
   "cell_type": "code",
   "execution_count": 58,
   "id": "5926c8ae",
   "metadata": {},
   "outputs": [],
   "source": [
    "ay1=np.random.randint(1,100,(5,6))"
   ]
  },
  {
   "cell_type": "code",
   "execution_count": 59,
   "id": "f9f18096",
   "metadata": {},
   "outputs": [
    {
     "data": {
      "text/plain": [
       "array([[29, 42, 46, 90,  8, 31],\n",
       "       [27, 76, 70, 50, 18, 65],\n",
       "       [62, 48, 14, 65, 36, 38],\n",
       "       [40, 82, 45, 29, 12, 91],\n",
       "       [32, 71, 63,  1, 36, 14]])"
      ]
     },
     "execution_count": 59,
     "metadata": {},
     "output_type": "execute_result"
    }
   ],
   "source": [
    "ay1"
   ]
  },
  {
   "cell_type": "code",
   "execution_count": 60,
   "id": "35abd6ac",
   "metadata": {},
   "outputs": [
    {
     "data": {
      "text/plain": [
       "array([90, 76, 70, 65, 62, 65, 82, 91, 71, 63])"
      ]
     },
     "execution_count": 60,
     "metadata": {},
     "output_type": "execute_result"
    }
   ],
   "source": [
    "ay1[ay1>50]            #to find grater then less then element in array"
   ]
  },
  {
   "cell_type": "code",
   "execution_count": 61,
   "id": "59614578",
   "metadata": {},
   "outputs": [
    {
     "data": {
      "text/plain": [
       "array([[48, 14],\n",
       "       [82, 45]])"
      ]
     },
     "execution_count": 61,
     "metadata": {},
     "output_type": "execute_result"
    }
   ],
   "source": [
    "ay1[2:4,(1,2)]    #Get sub array from array [row{:},(column{,})]"
   ]
  },
  {
   "cell_type": "markdown",
   "id": "ce293787",
   "metadata": {},
   "source": [
    "##  maths Opration in array"
   ]
  },
  {
   "cell_type": "code",
   "execution_count": 62,
   "id": "322f3610",
   "metadata": {},
   "outputs": [],
   "source": [
    "arr1=np.random.randint(1,3,(3,3))\n",
    "arr2=np.random.randint(1,3,(3,3))"
   ]
  },
  {
   "cell_type": "code",
   "execution_count": 63,
   "id": "16befbfb",
   "metadata": {},
   "outputs": [
    {
     "data": {
      "text/plain": [
       "array([[2, 1, 2],\n",
       "       [1, 1, 2],\n",
       "       [1, 2, 1]])"
      ]
     },
     "execution_count": 63,
     "metadata": {},
     "output_type": "execute_result"
    }
   ],
   "source": [
    "arr1"
   ]
  },
  {
   "cell_type": "code",
   "execution_count": 64,
   "id": "0986238f",
   "metadata": {},
   "outputs": [
    {
     "data": {
      "text/plain": [
       "array([[1, 1, 1],\n",
       "       [2, 2, 2],\n",
       "       [1, 2, 2]])"
      ]
     },
     "execution_count": 64,
     "metadata": {},
     "output_type": "execute_result"
    }
   ],
   "source": [
    "arr2"
   ]
  },
  {
   "cell_type": "code",
   "execution_count": 65,
   "id": "0099b1f6",
   "metadata": {},
   "outputs": [
    {
     "data": {
      "text/plain": [
       "array([[3, 2, 3],\n",
       "       [3, 3, 4],\n",
       "       [2, 4, 3]])"
      ]
     },
     "execution_count": 65,
     "metadata": {},
     "output_type": "execute_result"
    }
   ],
   "source": [
    "arr1+arr2"
   ]
  },
  {
   "cell_type": "code",
   "execution_count": 66,
   "id": "67cb9ee2",
   "metadata": {},
   "outputs": [
    {
     "data": {
      "text/plain": [
       "array([[ 1,  0,  1],\n",
       "       [-1, -1,  0],\n",
       "       [ 0,  0, -1]])"
      ]
     },
     "execution_count": 66,
     "metadata": {},
     "output_type": "execute_result"
    }
   ],
   "source": [
    "arr1-arr2"
   ]
  },
  {
   "cell_type": "code",
   "execution_count": 67,
   "id": "025ec4ea",
   "metadata": {},
   "outputs": [
    {
     "data": {
      "text/plain": [
       "array([[2, 1, 2],\n",
       "       [2, 2, 4],\n",
       "       [1, 4, 2]])"
      ]
     },
     "execution_count": 67,
     "metadata": {},
     "output_type": "execute_result"
    }
   ],
   "source": [
    "arr1*arr2       # Simpal multiplication (Not matrix)"
   ]
  },
  {
   "cell_type": "code",
   "execution_count": 68,
   "id": "cb8c59b3",
   "metadata": {},
   "outputs": [
    {
     "data": {
      "text/plain": [
       "array([[6, 8, 8],\n",
       "       [5, 7, 7],\n",
       "       [6, 7, 7]])"
      ]
     },
     "execution_count": 68,
     "metadata": {},
     "output_type": "execute_result"
    }
   ],
   "source": [
    "arr1@arr2      #Matrix Multiplication"
   ]
  },
  {
   "cell_type": "code",
   "execution_count": 69,
   "id": "f75952f9",
   "metadata": {},
   "outputs": [
    {
     "data": {
      "text/plain": [
       "array([[2. , 1. , 2. ],\n",
       "       [0.5, 0.5, 1. ],\n",
       "       [1. , 1. , 0.5]])"
      ]
     },
     "execution_count": 69,
     "metadata": {},
     "output_type": "execute_result"
    }
   ],
   "source": [
    "arr1/arr2"
   ]
  },
  {
   "cell_type": "code",
   "execution_count": 70,
   "id": "ec3a3ca0",
   "metadata": {},
   "outputs": [
    {
     "name": "stderr",
     "output_type": "stream",
     "text": [
      "C:\\Users\\admin\\AppData\\Local\\Temp\\ipykernel_11220\\1510032488.py:1: RuntimeWarning: divide by zero encountered in true_divide\n",
      "  arr1/0\n"
     ]
    },
    {
     "data": {
      "text/plain": [
       "array([[inf, inf, inf],\n",
       "       [inf, inf, inf],\n",
       "       [inf, inf, inf]])"
      ]
     },
     "execution_count": 70,
     "metadata": {},
     "output_type": "execute_result"
    }
   ],
   "source": [
    "arr1/0"
   ]
  },
  {
   "cell_type": "code",
   "execution_count": 71,
   "id": "3846ccdb",
   "metadata": {},
   "outputs": [
    {
     "data": {
      "text/plain": [
       "array([[102, 101, 102],\n",
       "       [101, 101, 102],\n",
       "       [101, 102, 101]])"
      ]
     },
     "execution_count": 71,
     "metadata": {},
     "output_type": "execute_result"
    }
   ],
   "source": [
    "arr1+100"
   ]
  },
  {
   "cell_type": "code",
   "execution_count": 72,
   "id": "5867900c",
   "metadata": {},
   "outputs": [
    {
     "data": {
      "text/plain": [
       "array([[4, 1, 4],\n",
       "       [1, 1, 4],\n",
       "       [1, 4, 1]])"
      ]
     },
     "execution_count": 72,
     "metadata": {},
     "output_type": "execute_result"
    }
   ],
   "source": [
    "arr1**2        #2 in power"
   ]
  },
  {
   "cell_type": "markdown",
   "id": "261b4f2d",
   "metadata": {},
   "source": [
    "## Numpy - Broadcasting"
   ]
  },
  {
   "cell_type": "code",
   "execution_count": 73,
   "id": "087f4eab",
   "metadata": {},
   "outputs": [
    {
     "data": {
      "text/plain": [
       "array([[0., 0., 0., 0.],\n",
       "       [0., 0., 0., 0.],\n",
       "       [0., 0., 0., 0.],\n",
       "       [0., 0., 0., 0.]])"
      ]
     },
     "execution_count": 73,
     "metadata": {},
     "output_type": "execute_result"
    }
   ],
   "source": [
    "arr=np.zeros((4,4))\n",
    "arr"
   ]
  },
  {
   "cell_type": "code",
   "execution_count": 74,
   "id": "399aa2af",
   "metadata": {},
   "outputs": [],
   "source": [
    "row=np.array([1,2,3,4])"
   ]
  },
  {
   "cell_type": "code",
   "execution_count": 75,
   "id": "1c4111e7",
   "metadata": {},
   "outputs": [
    {
     "data": {
      "text/plain": [
       "array([[1., 2., 3., 4.],\n",
       "       [1., 2., 3., 4.],\n",
       "       [1., 2., 3., 4.],\n",
       "       [1., 2., 3., 4.]])"
      ]
     },
     "execution_count": 75,
     "metadata": {},
     "output_type": "execute_result"
    }
   ],
   "source": [
    "arr+row         #row wise Broadcasting"
   ]
  },
  {
   "cell_type": "code",
   "execution_count": 76,
   "id": "a0009a3d",
   "metadata": {},
   "outputs": [],
   "source": [
    "col=np.array([[1,2,3,4]])"
   ]
  },
  {
   "cell_type": "code",
   "execution_count": 77,
   "id": "109645d9",
   "metadata": {},
   "outputs": [
    {
     "data": {
      "text/plain": [
       "array([[1., 1., 1., 1.],\n",
       "       [2., 2., 2., 2.],\n",
       "       [3., 3., 3., 3.],\n",
       "       [4., 4., 4., 4.]])"
      ]
     },
     "execution_count": 77,
     "metadata": {},
     "output_type": "execute_result"
    }
   ],
   "source": [
    "col.T+arr                #column wise broadcasting"
   ]
  },
  {
   "cell_type": "code",
   "execution_count": 78,
   "id": "d5314a54",
   "metadata": {},
   "outputs": [
    {
     "data": {
      "text/plain": [
       "array([[3, 3, 3, 2],\n",
       "       [3, 1, 3, 1],\n",
       "       [2, 1, 1, 1]])"
      ]
     },
     "execution_count": 78,
     "metadata": {},
     "output_type": "execute_result"
    }
   ],
   "source": [
    "arr1=np.random.randint(1,4,(3,4))\n",
    "arr1"
   ]
  },
  {
   "cell_type": "code",
   "execution_count": 79,
   "id": "58cee6d0",
   "metadata": {},
   "outputs": [
    {
     "data": {
      "text/plain": [
       "array([[1.73205081, 1.73205081, 1.73205081, 1.41421356],\n",
       "       [1.73205081, 1.        , 1.73205081, 1.        ],\n",
       "       [1.41421356, 1.        , 1.        , 1.        ]])"
      ]
     },
     "execution_count": 79,
     "metadata": {},
     "output_type": "execute_result"
    }
   ],
   "source": [
    "np.sqrt(arr1)"
   ]
  },
  {
   "cell_type": "code",
   "execution_count": 80,
   "id": "032a341b",
   "metadata": {},
   "outputs": [
    {
     "data": {
      "text/plain": [
       "array([[20.08553692, 20.08553692, 20.08553692,  7.3890561 ],\n",
       "       [20.08553692,  2.71828183, 20.08553692,  2.71828183],\n",
       "       [ 7.3890561 ,  2.71828183,  2.71828183,  2.71828183]])"
      ]
     },
     "execution_count": 80,
     "metadata": {},
     "output_type": "execute_result"
    }
   ],
   "source": [
    "np.exp(arr1)"
   ]
  },
  {
   "cell_type": "code",
   "execution_count": 96,
   "id": "e52cf421",
   "metadata": {},
   "outputs": [
    {
     "data": {
      "text/plain": [
       "array([[0.47712125, 0.47712125, 0.47712125, 0.30103   ],\n",
       "       [0.47712125, 0.        , 0.47712125, 0.        ],\n",
       "       [0.30103   , 0.        , 0.        , 0.        ]])"
      ]
     },
     "execution_count": 96,
     "metadata": {},
     "output_type": "execute_result"
    }
   ],
   "source": [
    "np.log10(arr1)"
   ]
  },
  {
   "cell_type": "code",
   "execution_count": 97,
   "id": "f8660454",
   "metadata": {},
   "outputs": [
    {
     "data": {
      "text/plain": [
       "array([3, 3, 3, 2, 3, 1, 3, 1, 2, 1, 1, 1])"
      ]
     },
     "execution_count": 97,
     "metadata": {},
     "output_type": "execute_result"
    }
   ],
   "source": [
    "arr1.flatten()         #flat the array"
   ]
  },
  {
   "cell_type": "code",
   "execution_count": 99,
   "id": "73b893ae",
   "metadata": {},
   "outputs": [
    {
     "data": {
      "text/plain": [
       "2"
      ]
     },
     "execution_count": 99,
     "metadata": {},
     "output_type": "execute_result"
    }
   ],
   "source": [
    "arr1.ndim"
   ]
  },
  {
   "cell_type": "code",
   "execution_count": 100,
   "id": "ed379883",
   "metadata": {},
   "outputs": [],
   "source": [
    "arr2=np.array([1,2,3,4])"
   ]
  },
  {
   "cell_type": "code",
   "execution_count": 101,
   "id": "6dcf5292",
   "metadata": {},
   "outputs": [
    {
     "data": {
      "text/plain": [
       "array([1, 2, 3, 4])"
      ]
     },
     "execution_count": 101,
     "metadata": {},
     "output_type": "execute_result"
    }
   ],
   "source": [
    "arr2"
   ]
  },
  {
   "cell_type": "code",
   "execution_count": 107,
   "id": "b5333176",
   "metadata": {},
   "outputs": [
    {
     "data": {
      "text/plain": [
       "2"
      ]
     },
     "execution_count": 107,
     "metadata": {},
     "output_type": "execute_result"
    }
   ],
   "source": [
    "np.expand_dims(arr2,axis=1).ndim          #Expand dimension"
   ]
  },
  {
   "cell_type": "code",
   "execution_count": 108,
   "id": "36c2868d",
   "metadata": {},
   "outputs": [
    {
     "data": {
      "text/plain": [
       "array([[1, 2, 3, 4]])"
      ]
     },
     "execution_count": 108,
     "metadata": {},
     "output_type": "execute_result"
    }
   ],
   "source": [
    "np.expand_dims(arr2,axis=0)"
   ]
  },
  {
   "cell_type": "code",
   "execution_count": 111,
   "id": "943d48f3",
   "metadata": {},
   "outputs": [
    {
     "data": {
      "text/plain": [
       "2"
      ]
     },
     "execution_count": 111,
     "metadata": {},
     "output_type": "execute_result"
    }
   ],
   "source": [
    "np.squeeze(arr1).ndim   #Every row contect one to more element .so not work "
   ]
  },
  {
   "cell_type": "code",
   "execution_count": 112,
   "id": "7e0b1bd8",
   "metadata": {},
   "outputs": [],
   "source": [
    "data=np.array([[1],[2],[3]])"
   ]
  },
  {
   "cell_type": "code",
   "execution_count": 113,
   "id": "f498a8d0",
   "metadata": {},
   "outputs": [
    {
     "data": {
      "text/plain": [
       "array([[1],\n",
       "       [2],\n",
       "       [3]])"
      ]
     },
     "execution_count": 113,
     "metadata": {},
     "output_type": "execute_result"
    }
   ],
   "source": [
    "data"
   ]
  },
  {
   "cell_type": "code",
   "execution_count": 115,
   "id": "e55fd2a2",
   "metadata": {},
   "outputs": [
    {
     "data": {
      "text/plain": [
       "1"
      ]
     },
     "execution_count": 115,
     "metadata": {},
     "output_type": "execute_result"
    }
   ],
   "source": [
    "np.squeeze(data).ndim    #In this array element is minmam so we easyly "
   ]
  },
  {
   "cell_type": "code",
   "execution_count": 116,
   "id": "4db71b40",
   "metadata": {},
   "outputs": [
    {
     "data": {
      "text/plain": [
       "array([1, 1, 1, 2, 2, 2, 3, 3, 3])"
      ]
     },
     "execution_count": 116,
     "metadata": {},
     "output_type": "execute_result"
    }
   ],
   "source": [
    "np.repeat(data,3)"
   ]
  },
  {
   "cell_type": "code",
   "execution_count": 121,
   "id": "95458825",
   "metadata": {},
   "outputs": [
    {
     "data": {
      "text/plain": [
       "array([3, 4, 1, 2])"
      ]
     },
     "execution_count": 121,
     "metadata": {},
     "output_type": "execute_result"
    }
   ],
   "source": [
    "np.roll(arr2,2)"
   ]
  },
  {
   "cell_type": "code",
   "execution_count": 126,
   "id": "9ce85367",
   "metadata": {},
   "outputs": [
    {
     "data": {
      "text/plain": [
       "array([[1, 0, 0, 0],\n",
       "       [0, 2, 0, 0],\n",
       "       [0, 0, 3, 0],\n",
       "       [0, 0, 0, 4]])"
      ]
     },
     "execution_count": 126,
     "metadata": {},
     "output_type": "execute_result"
    }
   ],
   "source": [
    "np.diag(arr2)"
   ]
  },
  {
   "cell_type": "markdown",
   "id": "34857ab9",
   "metadata": {},
   "source": [
    "### mathematical/Binarey operations "
   ]
  },
  {
   "cell_type": "code",
   "execution_count": 127,
   "id": "c001d2b0",
   "metadata": {},
   "outputs": [
    {
     "data": {
      "text/plain": [
       "array([[3, 3, 3, 2],\n",
       "       [3, 1, 3, 1],\n",
       "       [2, 1, 1, 1]])"
      ]
     },
     "execution_count": 127,
     "metadata": {},
     "output_type": "execute_result"
    }
   ],
   "source": [
    "arr1"
   ]
  },
  {
   "cell_type": "code",
   "execution_count": 128,
   "id": "50d9700a",
   "metadata": {},
   "outputs": [
    {
     "data": {
      "text/plain": [
       "array([1, 2, 3, 4])"
      ]
     },
     "execution_count": 128,
     "metadata": {},
     "output_type": "execute_result"
    }
   ],
   "source": [
    "arr2"
   ]
  },
  {
   "cell_type": "code",
   "execution_count": 131,
   "id": "264c3fad",
   "metadata": {},
   "outputs": [],
   "source": [
    "arr2=np.random.randint(1,5,(3,4))"
   ]
  },
  {
   "cell_type": "code",
   "execution_count": 132,
   "id": "21bd8333",
   "metadata": {},
   "outputs": [
    {
     "data": {
      "text/plain": [
       "array([[2, 2, 2, 4],\n",
       "       [4, 4, 1, 3],\n",
       "       [1, 4, 3, 4]])"
      ]
     },
     "execution_count": 132,
     "metadata": {},
     "output_type": "execute_result"
    }
   ],
   "source": [
    "arr2"
   ]
  },
  {
   "cell_type": "code",
   "execution_count": 133,
   "id": "9f1170cb",
   "metadata": {},
   "outputs": [
    {
     "data": {
      "text/plain": [
       "array([[5, 5, 5, 6],\n",
       "       [7, 5, 4, 4],\n",
       "       [3, 5, 4, 5]])"
      ]
     },
     "execution_count": 133,
     "metadata": {},
     "output_type": "execute_result"
    }
   ],
   "source": [
    "arr1+arr2"
   ]
  },
  {
   "cell_type": "code",
   "execution_count": 135,
   "id": "066a716a",
   "metadata": {},
   "outputs": [
    {
     "data": {
      "text/plain": [
       "array([[ 1,  1,  1, -2],\n",
       "       [-1, -3,  2, -2],\n",
       "       [ 1, -3, -2, -3]])"
      ]
     },
     "execution_count": 135,
     "metadata": {},
     "output_type": "execute_result"
    }
   ],
   "source": [
    "arr1-arr2"
   ]
  },
  {
   "cell_type": "code",
   "execution_count": 136,
   "id": "721c971f",
   "metadata": {},
   "outputs": [
    {
     "data": {
      "text/plain": [
       "array([[1, 1, 1, 2],\n",
       "       [3, 1, 0, 1],\n",
       "       [0, 1, 1, 1]])"
      ]
     },
     "execution_count": 136,
     "metadata": {},
     "output_type": "execute_result"
    }
   ],
   "source": [
    "arr1%arr2"
   ]
  },
  {
   "cell_type": "code",
   "execution_count": 138,
   "id": "cd045089",
   "metadata": {},
   "outputs": [
    {
     "data": {
      "text/plain": [
       "array([[1.5       , 1.5       , 1.5       , 0.5       ],\n",
       "       [0.75      , 0.25      , 3.        , 0.33333333],\n",
       "       [2.        , 0.25      , 0.33333333, 0.25      ]])"
      ]
     },
     "execution_count": 138,
     "metadata": {},
     "output_type": "execute_result"
    }
   ],
   "source": [
    "arr1/arr2"
   ]
  },
  {
   "cell_type": "code",
   "execution_count": 139,
   "id": "b25b3d86",
   "metadata": {},
   "outputs": [
    {
     "data": {
      "text/plain": [
       "array([[ 9,  9,  9, 16],\n",
       "       [81,  1,  3,  1],\n",
       "       [ 2,  1,  1,  1]])"
      ]
     },
     "execution_count": 139,
     "metadata": {},
     "output_type": "execute_result"
    }
   ],
   "source": [
    "arr1**arr2"
   ]
  },
  {
   "cell_type": "code",
   "execution_count": 140,
   "id": "0b5263d2",
   "metadata": {},
   "outputs": [
    {
     "data": {
      "text/plain": [
       "array([[2, 2, 2, 0],\n",
       "       [0, 0, 1, 1],\n",
       "       [0, 0, 1, 0]])"
      ]
     },
     "execution_count": 140,
     "metadata": {},
     "output_type": "execute_result"
    }
   ],
   "source": [
    "arr1&arr2"
   ]
  },
  {
   "cell_type": "code",
   "execution_count": 141,
   "id": "166626f3",
   "metadata": {},
   "outputs": [
    {
     "data": {
      "text/plain": [
       "array([[3, 3, 3, 6],\n",
       "       [7, 5, 3, 3],\n",
       "       [3, 5, 3, 5]])"
      ]
     },
     "execution_count": 141,
     "metadata": {},
     "output_type": "execute_result"
    }
   ],
   "source": [
    "arr1|arr2"
   ]
  },
  {
   "cell_type": "code",
   "execution_count": 142,
   "id": "beb78441",
   "metadata": {},
   "outputs": [
    {
     "data": {
      "text/plain": [
       "array([[-4, -4, -4, -3],\n",
       "       [-4, -2, -4, -2],\n",
       "       [-3, -2, -2, -2]])"
      ]
     },
     "execution_count": 142,
     "metadata": {},
     "output_type": "execute_result"
    }
   ],
   "source": [
    "~arr1"
   ]
  },
  {
   "cell_type": "code",
   "execution_count": 143,
   "id": "f9468acf",
   "metadata": {},
   "outputs": [
    {
     "data": {
      "text/plain": [
       "array([[False, False, False,  True],\n",
       "       [ True,  True, False,  True],\n",
       "       [False,  True,  True,  True]])"
      ]
     },
     "execution_count": 143,
     "metadata": {},
     "output_type": "execute_result"
    }
   ],
   "source": [
    "arr1<arr2"
   ]
  },
  {
   "cell_type": "code",
   "execution_count": 144,
   "id": "852768c3",
   "metadata": {},
   "outputs": [],
   "source": [
    "## mathematical function"
   ]
  },
  {
   "cell_type": "code",
   "execution_count": 145,
   "id": "bb0a86b8",
   "metadata": {},
   "outputs": [
    {
     "data": {
      "text/plain": [
       "array([[0.14112001, 0.14112001, 0.14112001, 0.90929743],\n",
       "       [0.14112001, 0.84147098, 0.14112001, 0.84147098],\n",
       "       [0.90929743, 0.84147098, 0.84147098, 0.84147098]])"
      ]
     },
     "execution_count": 145,
     "metadata": {},
     "output_type": "execute_result"
    }
   ],
   "source": [
    "np.sin(arr1)"
   ]
  },
  {
   "cell_type": "code",
   "execution_count": 146,
   "id": "0b366cc7",
   "metadata": {},
   "outputs": [
    {
     "data": {
      "text/plain": [
       "array([[-0.9899925 , -0.9899925 , -0.9899925 , -0.41614684],\n",
       "       [-0.9899925 ,  0.54030231, -0.9899925 ,  0.54030231],\n",
       "       [-0.41614684,  0.54030231,  0.54030231,  0.54030231]])"
      ]
     },
     "execution_count": 146,
     "metadata": {},
     "output_type": "execute_result"
    }
   ],
   "source": [
    "np.cos(arr1)"
   ]
  },
  {
   "cell_type": "code",
   "execution_count": 147,
   "id": "13ce7a11",
   "metadata": {},
   "outputs": [
    {
     "data": {
      "text/plain": [
       "array([[-0.14254654, -0.14254654, -0.14254654, -2.18503986],\n",
       "       [-0.14254654,  1.55740772, -0.14254654,  1.55740772],\n",
       "       [-2.18503986,  1.55740772,  1.55740772,  1.55740772]])"
      ]
     },
     "execution_count": 147,
     "metadata": {},
     "output_type": "execute_result"
    }
   ],
   "source": [
    "np.tan(arr1)"
   ]
  },
  {
   "cell_type": "code",
   "execution_count": 148,
   "id": "7b71dc69",
   "metadata": {},
   "outputs": [
    {
     "data": {
      "text/plain": [
       "array([[0.99505475, 0.99505475, 0.99505475, 0.96402758],\n",
       "       [0.99505475, 0.76159416, 0.99505475, 0.76159416],\n",
       "       [0.96402758, 0.76159416, 0.76159416, 0.76159416]])"
      ]
     },
     "execution_count": 148,
     "metadata": {},
     "output_type": "execute_result"
    }
   ],
   "source": [
    "np.tanh(arr1)"
   ]
  },
  {
   "cell_type": "code",
   "execution_count": 149,
   "id": "1113f80c",
   "metadata": {},
   "outputs": [
    {
     "data": {
      "text/plain": [
       "1"
      ]
     },
     "execution_count": 149,
     "metadata": {},
     "output_type": "execute_result"
    }
   ],
   "source": [
    "np.min(arr1)"
   ]
  },
  {
   "cell_type": "code",
   "execution_count": 150,
   "id": "5e586c2b",
   "metadata": {},
   "outputs": [
    {
     "data": {
      "text/plain": [
       "3"
      ]
     },
     "execution_count": 150,
     "metadata": {},
     "output_type": "execute_result"
    }
   ],
   "source": [
    "np.max(arr1)"
   ]
  },
  {
   "cell_type": "code",
   "execution_count": 151,
   "id": "26c124a6",
   "metadata": {},
   "outputs": [
    {
     "data": {
      "text/plain": [
       "2.0"
      ]
     },
     "execution_count": 151,
     "metadata": {},
     "output_type": "execute_result"
    }
   ],
   "source": [
    "np.mean(arr1)"
   ]
  },
  {
   "cell_type": "code",
   "execution_count": 152,
   "id": "1684871b",
   "metadata": {},
   "outputs": [
    {
     "data": {
      "text/plain": [
       "2.0"
      ]
     },
     "execution_count": 152,
     "metadata": {},
     "output_type": "execute_result"
    }
   ],
   "source": [
    "np.median(arr1)"
   ]
  },
  {
   "cell_type": "code",
   "execution_count": 153,
   "id": "85cd5d33",
   "metadata": {},
   "outputs": [
    {
     "data": {
      "text/plain": [
       "array([[9, 9, 9, 4],\n",
       "       [9, 1, 9, 1],\n",
       "       [4, 1, 1, 1]], dtype=int32)"
      ]
     },
     "execution_count": 153,
     "metadata": {},
     "output_type": "execute_result"
    }
   ],
   "source": [
    "np.power(arr1,2)"
   ]
  },
  {
   "cell_type": "code",
   "execution_count": 154,
   "id": "d9a0449b",
   "metadata": {},
   "outputs": [
    {
     "data": {
      "text/plain": [
       "array([[0.47712125, 0.47712125, 0.47712125, 0.30103   ],\n",
       "       [0.47712125, 0.        , 0.47712125, 0.        ],\n",
       "       [0.30103   , 0.        , 0.        , 0.        ]])"
      ]
     },
     "execution_count": 154,
     "metadata": {},
     "output_type": "execute_result"
    }
   ],
   "source": [
    "np.log10(arr1)"
   ]
  },
  {
   "cell_type": "code",
   "execution_count": 155,
   "id": "d44cbdf6",
   "metadata": {},
   "outputs": [
    {
     "data": {
      "text/plain": [
       "array([[20.08553692, 20.08553692, 20.08553692,  7.3890561 ],\n",
       "       [20.08553692,  2.71828183, 20.08553692,  2.71828183],\n",
       "       [ 7.3890561 ,  2.71828183,  2.71828183,  2.71828183]])"
      ]
     },
     "execution_count": 155,
     "metadata": {},
     "output_type": "execute_result"
    }
   ],
   "source": [
    "np.exp(arr1)"
   ]
  },
  {
   "cell_type": "code",
   "execution_count": 156,
   "id": "24723dc0",
   "metadata": {},
   "outputs": [
    {
     "data": {
      "text/plain": [
       "array([[1.73205081, 1.73205081, 1.73205081, 1.41421356],\n",
       "       [1.73205081, 1.        , 1.73205081, 1.        ],\n",
       "       [1.41421356, 1.        , 1.        , 1.        ]])"
      ]
     },
     "execution_count": 156,
     "metadata": {},
     "output_type": "execute_result"
    }
   ],
   "source": [
    "np.sqrt(arr1)"
   ]
  },
  {
   "cell_type": "markdown",
   "id": "78679c44",
   "metadata": {},
   "source": [
    "### Numpy- String Functions"
   ]
  },
  {
   "cell_type": "code",
   "execution_count": 160,
   "id": "8c1b5141",
   "metadata": {},
   "outputs": [],
   "source": [
    "new=np.array(['rohit','aman'])          #dtype='<U5= u5 means eqvalent to the string"
   ]
  },
  {
   "cell_type": "code",
   "execution_count": 161,
   "id": "dce3c717",
   "metadata": {},
   "outputs": [
    {
     "data": {
      "text/plain": [
       "array(['Rohit', 'Aman'], dtype='<U5')"
      ]
     },
     "execution_count": 161,
     "metadata": {},
     "output_type": "execute_result"
    }
   ],
   "source": [
    "np.char.capitalize(new)"
   ]
  },
  {
   "cell_type": "code",
   "execution_count": 162,
   "id": "bb61a431",
   "metadata": {},
   "outputs": [
    {
     "data": {
      "text/plain": [
       "array(['ROHIT', 'AMAN'], dtype='<U5')"
      ]
     },
     "execution_count": 162,
     "metadata": {},
     "output_type": "execute_result"
    }
   ],
   "source": [
    "np.char.upper(new)"
   ]
  },
  {
   "cell_type": "code",
   "execution_count": 163,
   "id": "9a212971",
   "metadata": {},
   "outputs": [
    {
     "data": {
      "text/plain": [
       "array(['Rohit', 'Aman'], dtype='<U5')"
      ]
     },
     "execution_count": 163,
     "metadata": {},
     "output_type": "execute_result"
    }
   ],
   "source": [
    "np.char.title(new)"
   ]
  },
  {
   "cell_type": "markdown",
   "id": "6327a7d7",
   "metadata": {},
   "source": [
    "### short,Search & Counting Function"
   ]
  },
  {
   "cell_type": "code",
   "execution_count": 165,
   "id": "f490932a",
   "metadata": {},
   "outputs": [],
   "source": [
    "arr=np.array([1,2,34,10,5,6,789,32,98,76,54,2,7])"
   ]
  },
  {
   "cell_type": "code",
   "execution_count": 166,
   "id": "19e2b2fb",
   "metadata": {},
   "outputs": [
    {
     "data": {
      "text/plain": [
       "array([  1,   2,  34,  10,   5,   6, 789,  32,  98,  76,  54,   2,   7])"
      ]
     },
     "execution_count": 166,
     "metadata": {},
     "output_type": "execute_result"
    }
   ],
   "source": [
    "arr"
   ]
  },
  {
   "cell_type": "code",
   "execution_count": 168,
   "id": "e1627a25",
   "metadata": {},
   "outputs": [
    {
     "data": {
      "text/plain": [
       "array([  1,   2,   2,   5,   6,   7,  10,  32,  34,  54,  76,  98, 789])"
      ]
     },
     "execution_count": 168,
     "metadata": {},
     "output_type": "execute_result"
    }
   ],
   "source": [
    "np.sort(arr)"
   ]
  },
  {
   "cell_type": "code",
   "execution_count": 170,
   "id": "85fa95b0",
   "metadata": {},
   "outputs": [
    {
     "data": {
      "text/plain": [
       "6"
      ]
     },
     "execution_count": 170,
     "metadata": {},
     "output_type": "execute_result"
    }
   ],
   "source": [
    "np.searchsorted(arr,43)"
   ]
  },
  {
   "cell_type": "code",
   "execution_count": 171,
   "id": "209d2107",
   "metadata": {},
   "outputs": [
    {
     "data": {
      "text/plain": [
       "13"
      ]
     },
     "execution_count": 171,
     "metadata": {},
     "output_type": "execute_result"
    }
   ],
   "source": [
    "len(arr)"
   ]
  },
  {
   "cell_type": "code",
   "execution_count": 173,
   "id": "65517d78",
   "metadata": {},
   "outputs": [],
   "source": [
    "arr1=([0,0,0,0,234,0,0,0,3,0,0,0,765,0,0,0])"
   ]
  },
  {
   "cell_type": "code",
   "execution_count": 175,
   "id": "f937b610",
   "metadata": {},
   "outputs": [
    {
     "data": {
      "text/plain": [
       "3"
      ]
     },
     "execution_count": 175,
     "metadata": {},
     "output_type": "execute_result"
    }
   ],
   "source": [
    "np.count_nonzero(arr1)"
   ]
  },
  {
   "cell_type": "code",
   "execution_count": 176,
   "id": "77e0b762",
   "metadata": {},
   "outputs": [
    {
     "data": {
      "text/plain": [
       "array([  1,   2,  34,  10,   5,   6, 789,  32,  98,  76,  54,   2,   7])"
      ]
     },
     "execution_count": 176,
     "metadata": {},
     "output_type": "execute_result"
    }
   ],
   "source": [
    "arr"
   ]
  },
  {
   "cell_type": "code",
   "execution_count": 177,
   "id": "f1182e57",
   "metadata": {},
   "outputs": [
    {
     "data": {
      "text/plain": [
       "(array([ 2,  6,  7,  8,  9, 10], dtype=int64),)"
      ]
     },
     "execution_count": 177,
     "metadata": {},
     "output_type": "execute_result"
    }
   ],
   "source": [
    "np.where(arr>10)"
   ]
  },
  {
   "cell_type": "code",
   "execution_count": 179,
   "id": "eb0d3b70",
   "metadata": {},
   "outputs": [
    {
     "data": {
      "text/plain": [
       "array([ 34, 789,  32,  98,  76,  54])"
      ]
     },
     "execution_count": 179,
     "metadata": {},
     "output_type": "execute_result"
    }
   ],
   "source": [
    "np.extract(arr>10,arr)"
   ]
  },
  {
   "cell_type": "markdown",
   "id": "ce33f20d",
   "metadata": {},
   "source": [
    "### Numpy - Byte Swapping"
   ]
  },
  {
   "cell_type": "code",
   "execution_count": 181,
   "id": "baea9937",
   "metadata": {},
   "outputs": [
    {
     "data": {
      "text/plain": [
       "array([  16777216,   33554432,  570425344,  167772160,   83886080,\n",
       "        100663296,  352518144,  536870912, 1644167168, 1275068416,\n",
       "        905969664,   33554432,  117440512])"
      ]
     },
     "execution_count": 181,
     "metadata": {},
     "output_type": "execute_result"
    }
   ],
   "source": [
    "arr.byteswap()"
   ]
  },
  {
   "cell_type": "markdown",
   "id": "19185b51",
   "metadata": {},
   "source": [
    "### Numpy - Copies & Views"
   ]
  },
  {
   "cell_type": "code",
   "execution_count": 183,
   "id": "87000d6f",
   "metadata": {},
   "outputs": [
    {
     "data": {
      "text/plain": [
       "array([  1,   2,  34,  10,   5,   6, 789,  32,  98,  76,  54,   2,   7])"
      ]
     },
     "execution_count": 183,
     "metadata": {},
     "output_type": "execute_result"
    }
   ],
   "source": [
    "arr"
   ]
  },
  {
   "cell_type": "code",
   "execution_count": 184,
   "id": "78724429",
   "metadata": {},
   "outputs": [],
   "source": [
    "a=np.copy(arr)    # deep copy"
   ]
  },
  {
   "cell_type": "code",
   "execution_count": 185,
   "id": "d0f7ee9e",
   "metadata": {},
   "outputs": [],
   "source": [
    "b=arr.view()      # solo copy{b=arr}"
   ]
  },
  {
   "cell_type": "code",
   "execution_count": 186,
   "id": "b75bdd5c",
   "metadata": {},
   "outputs": [
    {
     "data": {
      "text/plain": [
       "array([  1,   2,  34,  10,   5,   6, 789,  32,  98,  76,  54,   2,   7])"
      ]
     },
     "execution_count": 186,
     "metadata": {},
     "output_type": "execute_result"
    }
   ],
   "source": [
    "b"
   ]
  },
  {
   "cell_type": "code",
   "execution_count": 187,
   "id": "44be2703",
   "metadata": {},
   "outputs": [
    {
     "data": {
      "text/plain": [
       "array([  1,   2,  34,  10,   5,   6, 789,  32,  98,  76,  54,   2,   7])"
      ]
     },
     "execution_count": 187,
     "metadata": {},
     "output_type": "execute_result"
    }
   ],
   "source": [
    "arr"
   ]
  },
  {
   "cell_type": "code",
   "execution_count": 188,
   "id": "b9915f4e",
   "metadata": {},
   "outputs": [],
   "source": [
    "arr[1]=21"
   ]
  },
  {
   "cell_type": "code",
   "execution_count": 189,
   "id": "b151a6d3",
   "metadata": {},
   "outputs": [
    {
     "data": {
      "text/plain": [
       "array([  1,  21,  34,  10,   5,   6, 789,  32,  98,  76,  54,   2,   7])"
      ]
     },
     "execution_count": 189,
     "metadata": {},
     "output_type": "execute_result"
    }
   ],
   "source": [
    "b"
   ]
  },
  {
   "cell_type": "markdown",
   "id": "1fe488ea",
   "metadata": {},
   "source": [
    "### Numpy- Matrix Library"
   ]
  },
  {
   "cell_type": "code",
   "execution_count": 190,
   "id": "f1721195",
   "metadata": {},
   "outputs": [],
   "source": [
    "import numpy.matlib as nm"
   ]
  },
  {
   "cell_type": "code",
   "execution_count": 191,
   "id": "b1412838",
   "metadata": {},
   "outputs": [
    {
     "data": {
      "text/plain": [
       "matrix([[0., 0., 0., 0., 0.]])"
      ]
     },
     "execution_count": 191,
     "metadata": {},
     "output_type": "execute_result"
    }
   ],
   "source": [
    "nm.zeros(5)"
   ]
  },
  {
   "cell_type": "code",
   "execution_count": 192,
   "id": "bd57dc24",
   "metadata": {},
   "outputs": [
    {
     "data": {
      "text/plain": [
       "matrix([[1., 1., 1., 1.],\n",
       "        [1., 1., 1., 1.],\n",
       "        [1., 1., 1., 1.]])"
      ]
     },
     "execution_count": 192,
     "metadata": {},
     "output_type": "execute_result"
    }
   ],
   "source": [
    "nm.ones((3,4))"
   ]
  },
  {
   "cell_type": "code",
   "execution_count": 193,
   "id": "dd5041fb",
   "metadata": {},
   "outputs": [
    {
     "data": {
      "text/plain": [
       "matrix([[1., 0., 0., 0., 0.],\n",
       "        [0., 1., 0., 0., 0.],\n",
       "        [0., 0., 1., 0., 0.],\n",
       "        [0., 0., 0., 1., 0.],\n",
       "        [0., 0., 0., 0., 1.]])"
      ]
     },
     "execution_count": 193,
     "metadata": {},
     "output_type": "execute_result"
    }
   ],
   "source": [
    "nm.eye(5)"
   ]
  },
  {
   "cell_type": "markdown",
   "id": "8a64557e",
   "metadata": {},
   "source": [
    "Numpy- Linear Algebra"
   ]
  },
  {
   "cell_type": "code",
   "execution_count": 194,
   "id": "1442298a",
   "metadata": {},
   "outputs": [],
   "source": [
    "arr1=np.random.randint([[2,3],[4,5]])"
   ]
  },
  {
   "cell_type": "code",
   "execution_count": 195,
   "id": "cb864971",
   "metadata": {},
   "outputs": [],
   "source": [
    "arr2=np.random.randint([[5,3],[3,5]])"
   ]
  },
  {
   "cell_type": "code",
   "execution_count": null,
   "id": "7469752a",
   "metadata": {},
   "outputs": [],
   "source": []
  }
 ],
 "metadata": {
  "kernelspec": {
   "display_name": "Python 3 (ipykernel)",
   "language": "python",
   "name": "python3"
  },
  "language_info": {
   "codemirror_mode": {
    "name": "ipython",
    "version": 3
   },
   "file_extension": ".py",
   "mimetype": "text/x-python",
   "name": "python",
   "nbconvert_exporter": "python",
   "pygments_lexer": "ipython3",
   "version": "3.9.2"
  }
 },
 "nbformat": 4,
 "nbformat_minor": 5
}
