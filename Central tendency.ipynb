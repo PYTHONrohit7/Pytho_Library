import numpy as np
weights=[17,65,23,4,56,87,65]
np.mean(weights)
import seaborn as sns
sns.load_dataset('tips')
np.mean(df['total_bill'])
#Median is used to find the central tendency when outline is present.
np.median(age[12,34,56,78,98,76,5,43,12,34,5])
# For finding mode install
from scipy import stats
stats.mode(age)
